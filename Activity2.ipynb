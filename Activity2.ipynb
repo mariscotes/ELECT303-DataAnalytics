{
 "cells": [
  {
   "cell_type": "code",
   "execution_count": 1,
   "id": "f4d54a11-b827-49b0-8039-b96b9dec87f8",
   "metadata": {},
   "outputs": [],
   "source": [
    "#import libraries\n",
    "import numpy as np\n",
    "import pandas as pd\n",
    "import matplotlib.pyplot as plt\n",
    "import warnings\n",
    "warnings.filterwarnings('ignore')"
   ]
  },
  {
   "cell_type": "code",
   "execution_count": 2,
   "id": "8660bc85-740f-44cd-b75d-e5ccda3cf67b",
   "metadata": {},
   "outputs": [
    {
     "data": {
      "text/html": [
       "<div>\n",
       "<style scoped>\n",
       "    .dataframe tbody tr th:only-of-type {\n",
       "        vertical-align: middle;\n",
       "    }\n",
       "\n",
       "    .dataframe tbody tr th {\n",
       "        vertical-align: top;\n",
       "    }\n",
       "\n",
       "    .dataframe thead th {\n",
       "        text-align: right;\n",
       "    }\n",
       "</style>\n",
       "<table border=\"1\" class=\"dataframe\">\n",
       "  <thead>\n",
       "    <tr style=\"text-align: right;\">\n",
       "      <th></th>\n",
       "      <th>Index</th>\n",
       "      <th>Accident_Severity</th>\n",
       "      <th>Accident Date</th>\n",
       "      <th>Latitude</th>\n",
       "      <th>Light_Conditions</th>\n",
       "      <th>District Area</th>\n",
       "      <th>Longitude</th>\n",
       "      <th>Number_of_Casualties</th>\n",
       "      <th>Number_of_Vehicles</th>\n",
       "      <th>Road_Surface_Conditions</th>\n",
       "      <th>Road_Type</th>\n",
       "      <th>Urban_or_Rural_Area</th>\n",
       "      <th>Weather_Conditions</th>\n",
       "      <th>Vehicle_Type</th>\n",
       "    </tr>\n",
       "  </thead>\n",
       "  <tbody>\n",
       "    <tr>\n",
       "      <th>0</th>\n",
       "      <td>200701BS64157</td>\n",
       "      <td>Serious</td>\n",
       "      <td>5/6/2019</td>\n",
       "      <td>51.506187</td>\n",
       "      <td>Darkness - lights lit</td>\n",
       "      <td>Kensington and Chelsea</td>\n",
       "      <td>-0.209082</td>\n",
       "      <td>1</td>\n",
       "      <td>2</td>\n",
       "      <td>Dry</td>\n",
       "      <td>Single carriageway</td>\n",
       "      <td>Urban</td>\n",
       "      <td>Fine no high winds</td>\n",
       "      <td>Car</td>\n",
       "    </tr>\n",
       "    <tr>\n",
       "      <th>1</th>\n",
       "      <td>200701BS65737</td>\n",
       "      <td>Serious</td>\n",
       "      <td>2/7/2019</td>\n",
       "      <td>51.495029</td>\n",
       "      <td>Daylight</td>\n",
       "      <td>Kensington and Chelsea</td>\n",
       "      <td>-0.173647</td>\n",
       "      <td>1</td>\n",
       "      <td>2</td>\n",
       "      <td>Wet or damp</td>\n",
       "      <td>Single carriageway</td>\n",
       "      <td>Urban</td>\n",
       "      <td>Raining no high winds</td>\n",
       "      <td>Car</td>\n",
       "    </tr>\n",
       "    <tr>\n",
       "      <th>2</th>\n",
       "      <td>200701BS66127</td>\n",
       "      <td>Serious</td>\n",
       "      <td>26-08-2019</td>\n",
       "      <td>51.517715</td>\n",
       "      <td>Darkness - lighting unknown</td>\n",
       "      <td>Kensington and Chelsea</td>\n",
       "      <td>-0.210215</td>\n",
       "      <td>1</td>\n",
       "      <td>3</td>\n",
       "      <td>Dry</td>\n",
       "      <td>NaN</td>\n",
       "      <td>Urban</td>\n",
       "      <td>NaN</td>\n",
       "      <td>Taxi/Private hire car</td>\n",
       "    </tr>\n",
       "    <tr>\n",
       "      <th>3</th>\n",
       "      <td>200701BS66128</td>\n",
       "      <td>Serious</td>\n",
       "      <td>16-08-2019</td>\n",
       "      <td>51.495478</td>\n",
       "      <td>Daylight</td>\n",
       "      <td>Kensington and Chelsea</td>\n",
       "      <td>-0.202731</td>\n",
       "      <td>1</td>\n",
       "      <td>4</td>\n",
       "      <td>Dry</td>\n",
       "      <td>Single carriageway</td>\n",
       "      <td>Urban</td>\n",
       "      <td>Fine no high winds</td>\n",
       "      <td>Bus or coach (17 or more pass seats)</td>\n",
       "    </tr>\n",
       "    <tr>\n",
       "      <th>4</th>\n",
       "      <td>200701BS66837</td>\n",
       "      <td>Slight</td>\n",
       "      <td>3/9/2019</td>\n",
       "      <td>51.488576</td>\n",
       "      <td>Darkness - lights lit</td>\n",
       "      <td>Kensington and Chelsea</td>\n",
       "      <td>-0.192487</td>\n",
       "      <td>1</td>\n",
       "      <td>2</td>\n",
       "      <td>Dry</td>\n",
       "      <td>NaN</td>\n",
       "      <td>Urban</td>\n",
       "      <td>NaN</td>\n",
       "      <td>Other vehicle</td>\n",
       "    </tr>\n",
       "    <tr>\n",
       "      <th>...</th>\n",
       "      <td>...</td>\n",
       "      <td>...</td>\n",
       "      <td>...</td>\n",
       "      <td>...</td>\n",
       "      <td>...</td>\n",
       "      <td>...</td>\n",
       "      <td>...</td>\n",
       "      <td>...</td>\n",
       "      <td>...</td>\n",
       "      <td>...</td>\n",
       "      <td>...</td>\n",
       "      <td>...</td>\n",
       "      <td>...</td>\n",
       "      <td>...</td>\n",
       "    </tr>\n",
       "    <tr>\n",
       "      <th>660674</th>\n",
       "      <td>201091NM01760</td>\n",
       "      <td>Slight</td>\n",
       "      <td>18-02-2022</td>\n",
       "      <td>57.374005</td>\n",
       "      <td>Daylight</td>\n",
       "      <td>Highland</td>\n",
       "      <td>-3.467828</td>\n",
       "      <td>2</td>\n",
       "      <td>1</td>\n",
       "      <td>Dry</td>\n",
       "      <td>Single carriageway</td>\n",
       "      <td>Rural</td>\n",
       "      <td>Fine no high winds</td>\n",
       "      <td>Car</td>\n",
       "    </tr>\n",
       "    <tr>\n",
       "      <th>660675</th>\n",
       "      <td>201091NM01881</td>\n",
       "      <td>Slight</td>\n",
       "      <td>21-02-2022</td>\n",
       "      <td>57.232273</td>\n",
       "      <td>Darkness - no lighting</td>\n",
       "      <td>Highland</td>\n",
       "      <td>-3.809281</td>\n",
       "      <td>1</td>\n",
       "      <td>1</td>\n",
       "      <td>Frost or ice</td>\n",
       "      <td>Single carriageway</td>\n",
       "      <td>Rural</td>\n",
       "      <td>Fine no high winds</td>\n",
       "      <td>Car</td>\n",
       "    </tr>\n",
       "    <tr>\n",
       "      <th>660676</th>\n",
       "      <td>201091NM01935</td>\n",
       "      <td>Slight</td>\n",
       "      <td>23-02-2022</td>\n",
       "      <td>57.585044</td>\n",
       "      <td>Daylight</td>\n",
       "      <td>Highland</td>\n",
       "      <td>-3.862727</td>\n",
       "      <td>1</td>\n",
       "      <td>3</td>\n",
       "      <td>Frost or ice</td>\n",
       "      <td>Single carriageway</td>\n",
       "      <td>Rural</td>\n",
       "      <td>Fine no high winds</td>\n",
       "      <td>Car</td>\n",
       "    </tr>\n",
       "    <tr>\n",
       "      <th>660677</th>\n",
       "      <td>201091NM01964</td>\n",
       "      <td>Serious</td>\n",
       "      <td>23-02-2022</td>\n",
       "      <td>57.214898</td>\n",
       "      <td>Darkness - no lighting</td>\n",
       "      <td>Highland</td>\n",
       "      <td>-3.823997</td>\n",
       "      <td>1</td>\n",
       "      <td>2</td>\n",
       "      <td>Wet or damp</td>\n",
       "      <td>Single carriageway</td>\n",
       "      <td>Rural</td>\n",
       "      <td>Fine no high winds</td>\n",
       "      <td>Motorcycle over 500cc</td>\n",
       "    </tr>\n",
       "    <tr>\n",
       "      <th>660678</th>\n",
       "      <td>201091NM02142</td>\n",
       "      <td>Serious</td>\n",
       "      <td>28-02-2022</td>\n",
       "      <td>57.575210</td>\n",
       "      <td>Daylight</td>\n",
       "      <td>Highland</td>\n",
       "      <td>-3.895673</td>\n",
       "      <td>1</td>\n",
       "      <td>1</td>\n",
       "      <td>Wet or damp</td>\n",
       "      <td>Dual carriageway</td>\n",
       "      <td>Rural</td>\n",
       "      <td>Snowing no high winds</td>\n",
       "      <td>Car</td>\n",
       "    </tr>\n",
       "  </tbody>\n",
       "</table>\n",
       "<p>660679 rows × 14 columns</p>\n",
       "</div>"
      ],
      "text/plain": [
       "                Index Accident_Severity Accident Date   Latitude  \\\n",
       "0       200701BS64157           Serious      5/6/2019  51.506187   \n",
       "1       200701BS65737           Serious      2/7/2019  51.495029   \n",
       "2       200701BS66127           Serious    26-08-2019  51.517715   \n",
       "3       200701BS66128           Serious    16-08-2019  51.495478   \n",
       "4       200701BS66837            Slight      3/9/2019  51.488576   \n",
       "...               ...               ...           ...        ...   \n",
       "660674  201091NM01760            Slight    18-02-2022  57.374005   \n",
       "660675  201091NM01881            Slight    21-02-2022  57.232273   \n",
       "660676  201091NM01935            Slight    23-02-2022  57.585044   \n",
       "660677  201091NM01964           Serious    23-02-2022  57.214898   \n",
       "660678  201091NM02142           Serious    28-02-2022  57.575210   \n",
       "\n",
       "                   Light_Conditions           District Area  Longitude  \\\n",
       "0             Darkness - lights lit  Kensington and Chelsea  -0.209082   \n",
       "1                          Daylight  Kensington and Chelsea  -0.173647   \n",
       "2       Darkness - lighting unknown  Kensington and Chelsea  -0.210215   \n",
       "3                          Daylight  Kensington and Chelsea  -0.202731   \n",
       "4             Darkness - lights lit  Kensington and Chelsea  -0.192487   \n",
       "...                             ...                     ...        ...   \n",
       "660674                     Daylight                Highland  -3.467828   \n",
       "660675       Darkness - no lighting                Highland  -3.809281   \n",
       "660676                     Daylight                Highland  -3.862727   \n",
       "660677       Darkness - no lighting                Highland  -3.823997   \n",
       "660678                     Daylight                Highland  -3.895673   \n",
       "\n",
       "        Number_of_Casualties  Number_of_Vehicles Road_Surface_Conditions  \\\n",
       "0                          1                   2                     Dry   \n",
       "1                          1                   2             Wet or damp   \n",
       "2                          1                   3                     Dry   \n",
       "3                          1                   4                     Dry   \n",
       "4                          1                   2                     Dry   \n",
       "...                      ...                 ...                     ...   \n",
       "660674                     2                   1                     Dry   \n",
       "660675                     1                   1            Frost or ice   \n",
       "660676                     1                   3            Frost or ice   \n",
       "660677                     1                   2             Wet or damp   \n",
       "660678                     1                   1             Wet or damp   \n",
       "\n",
       "                 Road_Type Urban_or_Rural_Area     Weather_Conditions  \\\n",
       "0       Single carriageway               Urban     Fine no high winds   \n",
       "1       Single carriageway               Urban  Raining no high winds   \n",
       "2                      NaN               Urban                    NaN   \n",
       "3       Single carriageway               Urban     Fine no high winds   \n",
       "4                      NaN               Urban                    NaN   \n",
       "...                    ...                 ...                    ...   \n",
       "660674  Single carriageway               Rural     Fine no high winds   \n",
       "660675  Single carriageway               Rural     Fine no high winds   \n",
       "660676  Single carriageway               Rural     Fine no high winds   \n",
       "660677  Single carriageway               Rural     Fine no high winds   \n",
       "660678    Dual carriageway               Rural  Snowing no high winds   \n",
       "\n",
       "                                Vehicle_Type  \n",
       "0                                        Car  \n",
       "1                                        Car  \n",
       "2                      Taxi/Private hire car  \n",
       "3       Bus or coach (17 or more pass seats)  \n",
       "4                              Other vehicle  \n",
       "...                                      ...  \n",
       "660674                                   Car  \n",
       "660675                                   Car  \n",
       "660676                                   Car  \n",
       "660677                 Motorcycle over 500cc  \n",
       "660678                                   Car  \n",
       "\n",
       "[660679 rows x 14 columns]"
      ]
     },
     "execution_count": 2,
     "metadata": {},
     "output_type": "execute_result"
    }
   ],
   "source": [
    "uk = pd.read_csv('datasets\\\\uk_road_accident.csv')\n",
    "uk"
   ]
  },
  {
   "cell_type": "markdown",
   "id": "1db4a4c4-60cd-4112-9e1e-470e5d2bcae3",
   "metadata": {},
   "source": [
    "<h3>Descriptive Analytics</h3>"
   ]
  },
  {
   "cell_type": "code",
   "execution_count": 3,
   "id": "82a879f7-88f7-49e2-b3c0-5e1893d86043",
   "metadata": {},
   "outputs": [
    {
     "data": {
      "text/html": [
       "<div>\n",
       "<style scoped>\n",
       "    .dataframe tbody tr th:only-of-type {\n",
       "        vertical-align: middle;\n",
       "    }\n",
       "\n",
       "    .dataframe tbody tr th {\n",
       "        vertical-align: top;\n",
       "    }\n",
       "\n",
       "    .dataframe thead th {\n",
       "        text-align: right;\n",
       "    }\n",
       "</style>\n",
       "<table border=\"1\" class=\"dataframe\">\n",
       "  <thead>\n",
       "    <tr style=\"text-align: right;\">\n",
       "      <th></th>\n",
       "      <th>Latitude</th>\n",
       "      <th>Longitude</th>\n",
       "      <th>Number_of_Casualties</th>\n",
       "      <th>Number_of_Vehicles</th>\n",
       "    </tr>\n",
       "  </thead>\n",
       "  <tbody>\n",
       "    <tr>\n",
       "      <th>count</th>\n",
       "      <td>660654.000000</td>\n",
       "      <td>660653.000000</td>\n",
       "      <td>660679.000000</td>\n",
       "      <td>660679.000000</td>\n",
       "    </tr>\n",
       "    <tr>\n",
       "      <th>mean</th>\n",
       "      <td>52.553866</td>\n",
       "      <td>-1.431210</td>\n",
       "      <td>1.357040</td>\n",
       "      <td>1.831255</td>\n",
       "    </tr>\n",
       "    <tr>\n",
       "      <th>std</th>\n",
       "      <td>1.406922</td>\n",
       "      <td>1.383330</td>\n",
       "      <td>0.824847</td>\n",
       "      <td>0.715269</td>\n",
       "    </tr>\n",
       "    <tr>\n",
       "      <th>min</th>\n",
       "      <td>49.914430</td>\n",
       "      <td>-7.516225</td>\n",
       "      <td>1.000000</td>\n",
       "      <td>1.000000</td>\n",
       "    </tr>\n",
       "    <tr>\n",
       "      <th>25%</th>\n",
       "      <td>51.490690</td>\n",
       "      <td>-2.332291</td>\n",
       "      <td>1.000000</td>\n",
       "      <td>1.000000</td>\n",
       "    </tr>\n",
       "    <tr>\n",
       "      <th>50%</th>\n",
       "      <td>52.315641</td>\n",
       "      <td>-1.411667</td>\n",
       "      <td>1.000000</td>\n",
       "      <td>2.000000</td>\n",
       "    </tr>\n",
       "    <tr>\n",
       "      <th>75%</th>\n",
       "      <td>53.453452</td>\n",
       "      <td>-0.232869</td>\n",
       "      <td>1.000000</td>\n",
       "      <td>2.000000</td>\n",
       "    </tr>\n",
       "    <tr>\n",
       "      <th>max</th>\n",
       "      <td>60.757544</td>\n",
       "      <td>1.762010</td>\n",
       "      <td>68.000000</td>\n",
       "      <td>32.000000</td>\n",
       "    </tr>\n",
       "  </tbody>\n",
       "</table>\n",
       "</div>"
      ],
      "text/plain": [
       "            Latitude      Longitude  Number_of_Casualties  Number_of_Vehicles\n",
       "count  660654.000000  660653.000000         660679.000000       660679.000000\n",
       "mean       52.553866      -1.431210              1.357040            1.831255\n",
       "std         1.406922       1.383330              0.824847            0.715269\n",
       "min        49.914430      -7.516225              1.000000            1.000000\n",
       "25%        51.490690      -2.332291              1.000000            1.000000\n",
       "50%        52.315641      -1.411667              1.000000            2.000000\n",
       "75%        53.453452      -0.232869              1.000000            2.000000\n",
       "max        60.757544       1.762010             68.000000           32.000000"
      ]
     },
     "execution_count": 3,
     "metadata": {},
     "output_type": "execute_result"
    }
   ],
   "source": [
    "uk.describe()"
   ]
  },
  {
   "cell_type": "code",
   "execution_count": 4,
   "id": "340b8f16-7b40-46ee-8a5d-8e1b8a321bf5",
   "metadata": {},
   "outputs": [
    {
     "data": {
      "text/html": [
       "<div>\n",
       "<style scoped>\n",
       "    .dataframe tbody tr th:only-of-type {\n",
       "        vertical-align: middle;\n",
       "    }\n",
       "\n",
       "    .dataframe tbody tr th {\n",
       "        vertical-align: top;\n",
       "    }\n",
       "\n",
       "    .dataframe thead th {\n",
       "        text-align: right;\n",
       "    }\n",
       "</style>\n",
       "<table border=\"1\" class=\"dataframe\">\n",
       "  <thead>\n",
       "    <tr style=\"text-align: right;\">\n",
       "      <th></th>\n",
       "      <th>count</th>\n",
       "      <th>mean</th>\n",
       "      <th>std</th>\n",
       "      <th>min</th>\n",
       "      <th>25%</th>\n",
       "      <th>50%</th>\n",
       "      <th>75%</th>\n",
       "      <th>max</th>\n",
       "    </tr>\n",
       "  </thead>\n",
       "  <tbody>\n",
       "    <tr>\n",
       "      <th>Latitude</th>\n",
       "      <td>660654.0</td>\n",
       "      <td>52.553866</td>\n",
       "      <td>1.406922</td>\n",
       "      <td>49.914430</td>\n",
       "      <td>51.490690</td>\n",
       "      <td>52.315641</td>\n",
       "      <td>53.453452</td>\n",
       "      <td>60.757544</td>\n",
       "    </tr>\n",
       "    <tr>\n",
       "      <th>Longitude</th>\n",
       "      <td>660653.0</td>\n",
       "      <td>-1.431210</td>\n",
       "      <td>1.383330</td>\n",
       "      <td>-7.516225</td>\n",
       "      <td>-2.332291</td>\n",
       "      <td>-1.411667</td>\n",
       "      <td>-0.232869</td>\n",
       "      <td>1.762010</td>\n",
       "    </tr>\n",
       "    <tr>\n",
       "      <th>Number_of_Casualties</th>\n",
       "      <td>660679.0</td>\n",
       "      <td>1.357040</td>\n",
       "      <td>0.824847</td>\n",
       "      <td>1.000000</td>\n",
       "      <td>1.000000</td>\n",
       "      <td>1.000000</td>\n",
       "      <td>1.000000</td>\n",
       "      <td>68.000000</td>\n",
       "    </tr>\n",
       "    <tr>\n",
       "      <th>Number_of_Vehicles</th>\n",
       "      <td>660679.0</td>\n",
       "      <td>1.831255</td>\n",
       "      <td>0.715269</td>\n",
       "      <td>1.000000</td>\n",
       "      <td>1.000000</td>\n",
       "      <td>2.000000</td>\n",
       "      <td>2.000000</td>\n",
       "      <td>32.000000</td>\n",
       "    </tr>\n",
       "  </tbody>\n",
       "</table>\n",
       "</div>"
      ],
      "text/plain": [
       "                         count       mean       std        min        25%  \\\n",
       "Latitude              660654.0  52.553866  1.406922  49.914430  51.490690   \n",
       "Longitude             660653.0  -1.431210  1.383330  -7.516225  -2.332291   \n",
       "Number_of_Casualties  660679.0   1.357040  0.824847   1.000000   1.000000   \n",
       "Number_of_Vehicles    660679.0   1.831255  0.715269   1.000000   1.000000   \n",
       "\n",
       "                            50%        75%        max  \n",
       "Latitude              52.315641  53.453452  60.757544  \n",
       "Longitude             -1.411667  -0.232869   1.762010  \n",
       "Number_of_Casualties   1.000000   1.000000  68.000000  \n",
       "Number_of_Vehicles     2.000000   2.000000  32.000000  "
      ]
     },
     "execution_count": 4,
     "metadata": {},
     "output_type": "execute_result"
    }
   ],
   "source": [
    "uk.describe().T"
   ]
  },
  {
   "cell_type": "markdown",
   "id": "9bc45410-d097-41d5-b5a6-d314bb39628e",
   "metadata": {},
   "source": [
    "<h3>Checking for Null Values</h3>"
   ]
  },
  {
   "cell_type": "code",
   "execution_count": 5,
   "id": "2b1e639b-041b-4202-9efa-069d85aa2d2b",
   "metadata": {},
   "outputs": [
    {
     "data": {
      "text/html": [
       "<div>\n",
       "<style scoped>\n",
       "    .dataframe tbody tr th:only-of-type {\n",
       "        vertical-align: middle;\n",
       "    }\n",
       "\n",
       "    .dataframe tbody tr th {\n",
       "        vertical-align: top;\n",
       "    }\n",
       "\n",
       "    .dataframe thead th {\n",
       "        text-align: right;\n",
       "    }\n",
       "</style>\n",
       "<table border=\"1\" class=\"dataframe\">\n",
       "  <thead>\n",
       "    <tr style=\"text-align: right;\">\n",
       "      <th></th>\n",
       "      <th>Index</th>\n",
       "      <th>Accident_Severity</th>\n",
       "      <th>Accident Date</th>\n",
       "      <th>Latitude</th>\n",
       "      <th>Light_Conditions</th>\n",
       "      <th>District Area</th>\n",
       "      <th>Longitude</th>\n",
       "      <th>Number_of_Casualties</th>\n",
       "      <th>Number_of_Vehicles</th>\n",
       "      <th>Road_Surface_Conditions</th>\n",
       "      <th>Road_Type</th>\n",
       "      <th>Urban_or_Rural_Area</th>\n",
       "      <th>Weather_Conditions</th>\n",
       "      <th>Vehicle_Type</th>\n",
       "    </tr>\n",
       "  </thead>\n",
       "  <tbody>\n",
       "    <tr>\n",
       "      <th>0</th>\n",
       "      <td>False</td>\n",
       "      <td>False</td>\n",
       "      <td>False</td>\n",
       "      <td>False</td>\n",
       "      <td>False</td>\n",
       "      <td>False</td>\n",
       "      <td>False</td>\n",
       "      <td>False</td>\n",
       "      <td>False</td>\n",
       "      <td>False</td>\n",
       "      <td>False</td>\n",
       "      <td>False</td>\n",
       "      <td>False</td>\n",
       "      <td>False</td>\n",
       "    </tr>\n",
       "    <tr>\n",
       "      <th>1</th>\n",
       "      <td>False</td>\n",
       "      <td>False</td>\n",
       "      <td>False</td>\n",
       "      <td>False</td>\n",
       "      <td>False</td>\n",
       "      <td>False</td>\n",
       "      <td>False</td>\n",
       "      <td>False</td>\n",
       "      <td>False</td>\n",
       "      <td>False</td>\n",
       "      <td>False</td>\n",
       "      <td>False</td>\n",
       "      <td>False</td>\n",
       "      <td>False</td>\n",
       "    </tr>\n",
       "    <tr>\n",
       "      <th>2</th>\n",
       "      <td>False</td>\n",
       "      <td>False</td>\n",
       "      <td>False</td>\n",
       "      <td>False</td>\n",
       "      <td>False</td>\n",
       "      <td>False</td>\n",
       "      <td>False</td>\n",
       "      <td>False</td>\n",
       "      <td>False</td>\n",
       "      <td>False</td>\n",
       "      <td>True</td>\n",
       "      <td>False</td>\n",
       "      <td>True</td>\n",
       "      <td>False</td>\n",
       "    </tr>\n",
       "    <tr>\n",
       "      <th>3</th>\n",
       "      <td>False</td>\n",
       "      <td>False</td>\n",
       "      <td>False</td>\n",
       "      <td>False</td>\n",
       "      <td>False</td>\n",
       "      <td>False</td>\n",
       "      <td>False</td>\n",
       "      <td>False</td>\n",
       "      <td>False</td>\n",
       "      <td>False</td>\n",
       "      <td>False</td>\n",
       "      <td>False</td>\n",
       "      <td>False</td>\n",
       "      <td>False</td>\n",
       "    </tr>\n",
       "    <tr>\n",
       "      <th>4</th>\n",
       "      <td>False</td>\n",
       "      <td>False</td>\n",
       "      <td>False</td>\n",
       "      <td>False</td>\n",
       "      <td>False</td>\n",
       "      <td>False</td>\n",
       "      <td>False</td>\n",
       "      <td>False</td>\n",
       "      <td>False</td>\n",
       "      <td>False</td>\n",
       "      <td>True</td>\n",
       "      <td>False</td>\n",
       "      <td>True</td>\n",
       "      <td>False</td>\n",
       "    </tr>\n",
       "    <tr>\n",
       "      <th>...</th>\n",
       "      <td>...</td>\n",
       "      <td>...</td>\n",
       "      <td>...</td>\n",
       "      <td>...</td>\n",
       "      <td>...</td>\n",
       "      <td>...</td>\n",
       "      <td>...</td>\n",
       "      <td>...</td>\n",
       "      <td>...</td>\n",
       "      <td>...</td>\n",
       "      <td>...</td>\n",
       "      <td>...</td>\n",
       "      <td>...</td>\n",
       "      <td>...</td>\n",
       "    </tr>\n",
       "    <tr>\n",
       "      <th>660674</th>\n",
       "      <td>False</td>\n",
       "      <td>False</td>\n",
       "      <td>False</td>\n",
       "      <td>False</td>\n",
       "      <td>False</td>\n",
       "      <td>False</td>\n",
       "      <td>False</td>\n",
       "      <td>False</td>\n",
       "      <td>False</td>\n",
       "      <td>False</td>\n",
       "      <td>False</td>\n",
       "      <td>False</td>\n",
       "      <td>False</td>\n",
       "      <td>False</td>\n",
       "    </tr>\n",
       "    <tr>\n",
       "      <th>660675</th>\n",
       "      <td>False</td>\n",
       "      <td>False</td>\n",
       "      <td>False</td>\n",
       "      <td>False</td>\n",
       "      <td>False</td>\n",
       "      <td>False</td>\n",
       "      <td>False</td>\n",
       "      <td>False</td>\n",
       "      <td>False</td>\n",
       "      <td>False</td>\n",
       "      <td>False</td>\n",
       "      <td>False</td>\n",
       "      <td>False</td>\n",
       "      <td>False</td>\n",
       "    </tr>\n",
       "    <tr>\n",
       "      <th>660676</th>\n",
       "      <td>False</td>\n",
       "      <td>False</td>\n",
       "      <td>False</td>\n",
       "      <td>False</td>\n",
       "      <td>False</td>\n",
       "      <td>False</td>\n",
       "      <td>False</td>\n",
       "      <td>False</td>\n",
       "      <td>False</td>\n",
       "      <td>False</td>\n",
       "      <td>False</td>\n",
       "      <td>False</td>\n",
       "      <td>False</td>\n",
       "      <td>False</td>\n",
       "    </tr>\n",
       "    <tr>\n",
       "      <th>660677</th>\n",
       "      <td>False</td>\n",
       "      <td>False</td>\n",
       "      <td>False</td>\n",
       "      <td>False</td>\n",
       "      <td>False</td>\n",
       "      <td>False</td>\n",
       "      <td>False</td>\n",
       "      <td>False</td>\n",
       "      <td>False</td>\n",
       "      <td>False</td>\n",
       "      <td>False</td>\n",
       "      <td>False</td>\n",
       "      <td>False</td>\n",
       "      <td>False</td>\n",
       "    </tr>\n",
       "    <tr>\n",
       "      <th>660678</th>\n",
       "      <td>False</td>\n",
       "      <td>False</td>\n",
       "      <td>False</td>\n",
       "      <td>False</td>\n",
       "      <td>False</td>\n",
       "      <td>False</td>\n",
       "      <td>False</td>\n",
       "      <td>False</td>\n",
       "      <td>False</td>\n",
       "      <td>False</td>\n",
       "      <td>False</td>\n",
       "      <td>False</td>\n",
       "      <td>False</td>\n",
       "      <td>False</td>\n",
       "    </tr>\n",
       "  </tbody>\n",
       "</table>\n",
       "<p>660679 rows × 14 columns</p>\n",
       "</div>"
      ],
      "text/plain": [
       "        Index  Accident_Severity  Accident Date  Latitude  Light_Conditions  \\\n",
       "0       False              False          False     False             False   \n",
       "1       False              False          False     False             False   \n",
       "2       False              False          False     False             False   \n",
       "3       False              False          False     False             False   \n",
       "4       False              False          False     False             False   \n",
       "...       ...                ...            ...       ...               ...   \n",
       "660674  False              False          False     False             False   \n",
       "660675  False              False          False     False             False   \n",
       "660676  False              False          False     False             False   \n",
       "660677  False              False          False     False             False   \n",
       "660678  False              False          False     False             False   \n",
       "\n",
       "        District Area  Longitude  Number_of_Casualties  Number_of_Vehicles  \\\n",
       "0               False      False                 False               False   \n",
       "1               False      False                 False               False   \n",
       "2               False      False                 False               False   \n",
       "3               False      False                 False               False   \n",
       "4               False      False                 False               False   \n",
       "...               ...        ...                   ...                 ...   \n",
       "660674          False      False                 False               False   \n",
       "660675          False      False                 False               False   \n",
       "660676          False      False                 False               False   \n",
       "660677          False      False                 False               False   \n",
       "660678          False      False                 False               False   \n",
       "\n",
       "        Road_Surface_Conditions  Road_Type  Urban_or_Rural_Area  \\\n",
       "0                         False      False                False   \n",
       "1                         False      False                False   \n",
       "2                         False       True                False   \n",
       "3                         False      False                False   \n",
       "4                         False       True                False   \n",
       "...                         ...        ...                  ...   \n",
       "660674                    False      False                False   \n",
       "660675                    False      False                False   \n",
       "660676                    False      False                False   \n",
       "660677                    False      False                False   \n",
       "660678                    False      False                False   \n",
       "\n",
       "        Weather_Conditions  Vehicle_Type  \n",
       "0                    False         False  \n",
       "1                    False         False  \n",
       "2                     True         False  \n",
       "3                    False         False  \n",
       "4                     True         False  \n",
       "...                    ...           ...  \n",
       "660674               False         False  \n",
       "660675               False         False  \n",
       "660676               False         False  \n",
       "660677               False         False  \n",
       "660678               False         False  \n",
       "\n",
       "[660679 rows x 14 columns]"
      ]
     },
     "execution_count": 5,
     "metadata": {},
     "output_type": "execute_result"
    }
   ],
   "source": [
    "uk.isnull()"
   ]
  },
  {
   "cell_type": "markdown",
   "id": "28796572-d374-4a62-a818-504515101f55",
   "metadata": {},
   "source": [
    "<h3>FILLING UP NULL VALUES</h3>"
   ]
  },
  {
   "cell_type": "code",
   "execution_count": 6,
   "id": "29642dc2-9161-4699-9e18-c82eb3d77c06",
   "metadata": {},
   "outputs": [
    {
     "data": {
      "text/plain": [
       "Index                          0\n",
       "Accident_Severity              0\n",
       "Accident Date                  0\n",
       "Latitude                      25\n",
       "Light_Conditions               0\n",
       "District Area                  0\n",
       "Longitude                     26\n",
       "Number_of_Casualties           0\n",
       "Number_of_Vehicles             0\n",
       "Road_Surface_Conditions      726\n",
       "Road_Type                   4520\n",
       "Urban_or_Rural_Area           15\n",
       "Weather_Conditions         14128\n",
       "Vehicle_Type                   0\n",
       "dtype: int64"
      ]
     },
     "execution_count": 6,
     "metadata": {},
     "output_type": "execute_result"
    }
   ],
   "source": [
    "uk.isnull().sum()"
   ]
  },
  {
   "cell_type": "code",
   "execution_count": 7,
   "id": "ce15bb6b-c1f7-4594-a2c5-9a99604bffd6",
   "metadata": {},
   "outputs": [
    {
     "data": {
      "text/plain": [
       "Index                          0\n",
       "Accident_Severity              0\n",
       "Accident Date                  0\n",
       "Latitude                       0\n",
       "Light_Conditions               0\n",
       "District Area                  0\n",
       "Longitude                      0\n",
       "Number_of_Casualties           0\n",
       "Number_of_Vehicles             0\n",
       "Road_Surface_Conditions      726\n",
       "Road_Type                   4520\n",
       "Urban_or_Rural_Area           15\n",
       "Weather_Conditions         14128\n",
       "Vehicle_Type                   0\n",
       "dtype: int64"
      ]
     },
     "execution_count": 7,
     "metadata": {},
     "output_type": "execute_result"
    }
   ],
   "source": [
    "#LATITUDE\n",
    "uk['Latitude'].mean()\n",
    "uk['Latitude'] = uk['Latitude'].fillna(uk['Latitude'].mean())\n",
    "\n",
    "#LONGITUDE\n",
    "uk['Longitude'].mean()\n",
    "uk['Longitude'] = uk['Longitude'].fillna(uk['Longitude'].mean())\n",
    "uk.isnull().sum()"
   ]
  },
  {
   "cell_type": "code",
   "execution_count": 8,
   "id": "4e876cd3-9bb5-4d3a-a26a-7eb1b91a524f",
   "metadata": {},
   "outputs": [
    {
     "data": {
      "text/plain": [
       "Index                          0\n",
       "Accident_Severity              0\n",
       "Accident Date                  0\n",
       "Latitude                       0\n",
       "Light_Conditions               0\n",
       "District Area                  0\n",
       "Longitude                      0\n",
       "Number_of_Casualties           0\n",
       "Number_of_Vehicles             0\n",
       "Road_Surface_Conditions        0\n",
       "Road_Type                      0\n",
       "Urban_or_Rural_Area            0\n",
       "Weather_Conditions         14128\n",
       "Vehicle_Type                   0\n",
       "dtype: int64"
      ]
     },
     "execution_count": 8,
     "metadata": {},
     "output_type": "execute_result"
    }
   ],
   "source": [
    "#ROAD_SURFACE_CONDITION\n",
    "uk['Road_Surface_Conditions'].mode()\n",
    "uk['Road_Surface_Conditions'] = uk['Road_Surface_Conditions'].fillna(uk['Road_Surface_Conditions'].mode()[0])\n",
    "\n",
    "#ROAD_TYPE\n",
    "uk['Road_Type'].mode()\n",
    "uk['Road_Type'] = uk['Road_Type'].fillna(uk['Road_Type'].mode()[0])\n",
    "\n",
    "#URBAN_OR_RURAL_AREA\n",
    "uk['Urban_or_Rural_Area'].mode()\n",
    "uk['Urban_or_Rural_Area'] = uk['Urban_or_Rural_Area'].fillna(uk['Urban_or_Rural_Area'].mode()[0])\n",
    "uk.isnull().sum()"
   ]
  },
  {
   "cell_type": "code",
   "execution_count": 9,
   "id": "8d88d161-ab05-4fb8-a0ad-619f5b72aa19",
   "metadata": {},
   "outputs": [
    {
     "data": {
      "text/plain": [
       "Index                      0\n",
       "Accident_Severity          0\n",
       "Accident Date              0\n",
       "Latitude                   0\n",
       "Light_Conditions           0\n",
       "District Area              0\n",
       "Longitude                  0\n",
       "Number_of_Casualties       0\n",
       "Number_of_Vehicles         0\n",
       "Road_Surface_Conditions    0\n",
       "Road_Type                  0\n",
       "Urban_or_Rural_Area        0\n",
       "Weather_Conditions         0\n",
       "Vehicle_Type               0\n",
       "dtype: int64"
      ]
     },
     "execution_count": 9,
     "metadata": {},
     "output_type": "execute_result"
    }
   ],
   "source": [
    "#WEATHER_CONDITION\n",
    "uk['Weather_Conditions'].mode()\n",
    "uk['Weather_Conditions'] = uk['Weather_Conditions'].fillna(uk['Weather_Conditions'].mode()[0])\n",
    "uk.isnull().sum()"
   ]
  },
  {
   "cell_type": "code",
   "execution_count": 10,
   "id": "2749a053-94ed-42c4-a186-a5b4865226d0",
   "metadata": {},
   "outputs": [
    {
     "name": "stdout",
     "output_type": "stream",
     "text": [
      "<class 'pandas.core.frame.DataFrame'>\n",
      "RangeIndex: 660679 entries, 0 to 660678\n",
      "Data columns (total 14 columns):\n",
      " #   Column                   Non-Null Count   Dtype  \n",
      "---  ------                   --------------   -----  \n",
      " 0   Index                    660679 non-null  object \n",
      " 1   Accident_Severity        660679 non-null  object \n",
      " 2   Accident Date            660679 non-null  object \n",
      " 3   Latitude                 660679 non-null  float64\n",
      " 4   Light_Conditions         660679 non-null  object \n",
      " 5   District Area            660679 non-null  object \n",
      " 6   Longitude                660679 non-null  float64\n",
      " 7   Number_of_Casualties     660679 non-null  int64  \n",
      " 8   Number_of_Vehicles       660679 non-null  int64  \n",
      " 9   Road_Surface_Conditions  660679 non-null  object \n",
      " 10  Road_Type                660679 non-null  object \n",
      " 11  Urban_or_Rural_Area      660679 non-null  object \n",
      " 12  Weather_Conditions       660679 non-null  object \n",
      " 13  Vehicle_Type             660679 non-null  object \n",
      "dtypes: float64(2), int64(2), object(10)\n",
      "memory usage: 70.6+ MB\n"
     ]
    }
   ],
   "source": [
    "uk.info()"
   ]
  },
  {
   "cell_type": "markdown",
   "id": "f095f6a8-88e3-4f40-bb5f-5c277bd355e8",
   "metadata": {},
   "source": [
    "<h2>Clearing any Inconsistencies with the Data Set </h2>"
   ]
  },
  {
   "cell_type": "code",
   "execution_count": 11,
   "id": "19f64c9d-315c-4e86-929d-24bf03168a8b",
   "metadata": {},
   "outputs": [],
   "source": [
    "uk['Accident Date'] = uk['Accident Date'].str.strip()\n",
    "uk['Accident Date'] = uk['Accident Date'].astype('str')\n",
    "uk['Accident Date'] = uk['Accident Date'].str.replace('/','-')"
   ]
  },
  {
   "cell_type": "code",
   "execution_count": 12,
   "id": "9af1d4f9-e4e6-426d-8abd-f2d2ef61a3d6",
   "metadata": {},
   "outputs": [],
   "source": [
    "uk['Accident Date'] = pd.to_datetime(uk['Accident Date'], dayfirst = True, errors ='coerce')"
   ]
  },
  {
   "cell_type": "markdown",
   "id": "f52eb99d-cf7f-48a8-9565-bf77c6deda47",
   "metadata": {},
   "source": [
    "<h3>Adjusting Data Types</h3>"
   ]
  },
  {
   "cell_type": "code",
   "execution_count": 13,
   "id": "5533884d-347c-446f-9a21-29bf7d5763d2",
   "metadata": {},
   "outputs": [
    {
     "data": {
      "text/plain": [
       "Index                              object\n",
       "Accident_Severity                  object\n",
       "Accident Date              datetime64[ns]\n",
       "Latitude                          float64\n",
       "Light_Conditions                   object\n",
       "District Area                      object\n",
       "Longitude                         float64\n",
       "Number_of_Casualties                int64\n",
       "Number_of_Vehicles                  int64\n",
       "Road_Surface_Conditions            object\n",
       "Road_Type                          object\n",
       "Urban_or_Rural_Area                object\n",
       "Weather_Conditions                 object\n",
       "Vehicle_Type                       object\n",
       "dtype: object"
      ]
     },
     "execution_count": 13,
     "metadata": {},
     "output_type": "execute_result"
    }
   ],
   "source": [
    "uk.dtypes"
   ]
  },
  {
   "cell_type": "code",
   "execution_count": 14,
   "id": "3370d52a-79cc-45cc-be71-0f1351d395c7",
   "metadata": {},
   "outputs": [
    {
     "name": "stdout",
     "output_type": "stream",
     "text": [
      "<class 'pandas.core.frame.DataFrame'>\n",
      "RangeIndex: 660679 entries, 0 to 660678\n",
      "Data columns (total 14 columns):\n",
      " #   Column                   Non-Null Count   Dtype         \n",
      "---  ------                   --------------   -----         \n",
      " 0   Index                    660679 non-null  object        \n",
      " 1   Accident_Severity        660679 non-null  category      \n",
      " 2   Accident Date            660679 non-null  datetime64[ns]\n",
      " 3   Latitude                 660679 non-null  float64       \n",
      " 4   Light_Conditions         660679 non-null  category      \n",
      " 5   District Area            660679 non-null  category      \n",
      " 6   Longitude                660679 non-null  float64       \n",
      " 7   Number_of_Casualties     660679 non-null  int64         \n",
      " 8   Number_of_Vehicles       660679 non-null  int64         \n",
      " 9   Road_Surface_Conditions  660679 non-null  category      \n",
      " 10  Road_Type                660679 non-null  category      \n",
      " 11  Urban_or_Rural_Area      660679 non-null  category      \n",
      " 12  Weather_Conditions       660679 non-null  category      \n",
      " 13  Vehicle_Type             660679 non-null  category      \n",
      "dtypes: category(8), datetime64[ns](1), float64(2), int64(2), object(1)\n",
      "memory usage: 35.9+ MB\n"
     ]
    }
   ],
   "source": [
    "uk['Accident_Severity'] = uk['Accident_Severity'].astype('category')\n",
    "uk['Light_Conditions'] = uk['Light_Conditions'].astype('category')\n",
    "uk['District Area'] = uk['District Area'].astype('category')\n",
    "uk['Road_Surface_Conditions'] = uk['Road_Surface_Conditions'].astype('category')\n",
    "uk['Road_Type'] = uk['Road_Type'].astype('category')\n",
    "uk['Urban_or_Rural_Area'] = uk['Urban_or_Rural_Area'].astype('category')\n",
    "uk['Weather_Conditions'] = uk['Weather_Conditions'].astype('category')\n",
    "uk['Vehicle_Type'] = uk['Vehicle_Type'].astype('category')\n",
    "\n",
    "uk.info()"
   ]
  },
  {
   "cell_type": "markdown",
   "id": "6e4b7e18-3cca-49a2-a352-110f93e006ac",
   "metadata": {},
   "source": [
    "<h3>Extracting date information using pandas date time</h3>"
   ]
  },
  {
   "cell_type": "code",
   "execution_count": 15,
   "id": "eae45b2d-105d-45b6-8107-41e9b9705134",
   "metadata": {},
   "outputs": [],
   "source": [
    "uk['Year'] = uk['Accident Date'].dt.year\n",
    "uk['Month'] = uk['Accident Date'].dt.month\n",
    "uk['Day'] = uk['Accident Date'].dt.day\n",
    "uk['DataOfWeek'] = uk['Accident Date'].dt.dayofweek"
   ]
  },
  {
   "cell_type": "code",
   "execution_count": 16,
   "id": "a68d24d2-ac0d-401b-aec1-e377f6b69c20",
   "metadata": {},
   "outputs": [
    {
     "data": {
      "text/plain": [
       "Index                      0\n",
       "Accident_Severity          0\n",
       "Accident Date              0\n",
       "Latitude                   0\n",
       "Light_Conditions           0\n",
       "District Area              0\n",
       "Longitude                  0\n",
       "Number_of_Casualties       0\n",
       "Number_of_Vehicles         0\n",
       "Road_Surface_Conditions    0\n",
       "Road_Type                  0\n",
       "Urban_or_Rural_Area        0\n",
       "Weather_Conditions         0\n",
       "Vehicle_Type               0\n",
       "Year                       0\n",
       "Month                      0\n",
       "Day                        0\n",
       "DataOfWeek                 0\n",
       "dtype: int64"
      ]
     },
     "execution_count": 16,
     "metadata": {},
     "output_type": "execute_result"
    }
   ],
   "source": [
    "uk.isnull().sum()"
   ]
  },
  {
   "cell_type": "markdown",
   "id": "217eaaf1-f709-4881-aabc-53475494922b",
   "metadata": {},
   "source": [
    "<hr>"
   ]
  },
  {
   "cell_type": "markdown",
   "id": "d7861075-e67e-44d9-82f9-2e70091d1f6e",
   "metadata": {},
   "source": [
    "<h2>Questions:</h2>\n",
    "<h3>1.What is the average number of casualties per accident?</h3>"
   ]
  },
  {
   "cell_type": "code",
   "execution_count": 17,
   "id": "7cdb7027-cfa0-49ff-ac18-cef2c078dbc7",
   "metadata": {},
   "outputs": [
    {
     "data": {
      "text/plain": [
       "np.float64(1.357040257068864)"
      ]
     },
     "execution_count": 17,
     "metadata": {},
     "output_type": "execute_result"
    }
   ],
   "source": [
    "uk['Number_of_Casualties'].mean()"
   ]
  },
  {
   "cell_type": "markdown",
   "id": "58144650-c35d-4264-96c1-4a22e9b27ff1",
   "metadata": {},
   "source": [
    "<h3>Insight 1:</h3>\n",
    "<h4>On average, each accident results in approximately 1.36 casualties, indicating a significant human impact per incident.</h4>\n",
    "<hr>"
   ]
  },
  {
   "cell_type": "markdown",
   "id": "bba493b0-12fc-4d17-8eab-03dc53d283b5",
   "metadata": {},
   "source": [
    "<h3>2. How many accidents occurred on 'Dry' road surface conditions?</h3>"
   ]
  },
  {
   "cell_type": "code",
   "execution_count": 18,
   "id": "070f0100-9d1c-4cde-ad58-d59b7e982d39",
   "metadata": {},
   "outputs": [
    {
     "data": {
      "text/plain": [
       "448547"
      ]
     },
     "execution_count": 18,
     "metadata": {},
     "output_type": "execute_result"
    }
   ],
   "source": [
    "len(uk[uk['Road_Surface_Conditions'] == 'Dry'])"
   ]
  },
  {
   "cell_type": "markdown",
   "id": "d24b21e5-4008-461f-8a33-4a562bd3603f",
   "metadata": {},
   "source": [
    "<h3>Insight 2:</h3>\n",
    "<h4>A large number of accidents, 448,547, occurred on dry road surfaces, suggesting that dry conditions do not necessarily guarantee safer driving.</h4>\n",
    "<hr>"
   ]
  },
  {
   "cell_type": "markdown",
   "id": "fea1f60d-9066-4820-83ec-4aad73890b25",
   "metadata": {},
   "source": [
    "<h3>3. What is the most common 'Vehicle_Type' involved in accidents?</h3>"
   ]
  },
  {
   "cell_type": "code",
   "execution_count": 19,
   "id": "76794ea6-4644-41dc-a46a-c1b5d748eab2",
   "metadata": {},
   "outputs": [
    {
     "data": {
      "text/plain": [
       "'Car'"
      ]
     },
     "execution_count": 19,
     "metadata": {},
     "output_type": "execute_result"
    }
   ],
   "source": [
    "uk['Vehicle_Type'].value_counts().idxmax()"
   ]
  },
  {
   "cell_type": "markdown",
   "id": "4856f5b9-8da2-4a28-bf48-2689962fd074",
   "metadata": {},
   "source": [
    "<h3>Insight 3:</h3>\n",
    "<h4>Cars are the most commonly involved vehicle type in accidents, highlighting their prevalence and potential risk on the roads.</h4>\n",
    "<hr>"
   ]
  },
  {
   "cell_type": "markdown",
   "id": "c85688fb-b4f7-4b60-bf9f-b00cd0b9fedd",
   "metadata": {},
   "source": [
    "<h3>4. How many accidents occurred in 'Urban' areas?</h3>"
   ]
  },
  {
   "cell_type": "code",
   "execution_count": 20,
   "id": "d7cdf156-6298-40ba-a70a-806fd003d49d",
   "metadata": {},
   "outputs": [
    {
     "data": {
      "text/plain": [
       "421678"
      ]
     },
     "execution_count": 20,
     "metadata": {},
     "output_type": "execute_result"
    }
   ],
   "source": [
    "uk[uk['Urban_or_Rural_Area'] == 'Urban'].shape[0]"
   ]
  },
  {
   "cell_type": "markdown",
   "id": "c620ee1e-30b8-4bae-8840-af9af55078ff",
   "metadata": {},
   "source": [
    "<h3>Insight 4:</h3>\n",
    "<h4>With 421,678 accidents occurring in urban areas, it shows that city environments have a high frequency of traffic incidents.</h4>\n",
    "<hr>"
   ]
  },
  {
   "cell_type": "markdown",
   "id": "a29b2f95-21c6-4154-bda1-d27f6f129d28",
   "metadata": {},
   "source": [
    "<h3>5. What is the average number of vehicles involved in accidents with 'Serious' severity?</h3>"
   ]
  },
  {
   "cell_type": "code",
   "execution_count": 21,
   "id": "37675e38-77d4-4d4b-b218-41c0fdf5a552",
   "metadata": {},
   "outputs": [
    {
     "data": {
      "text/plain": [
       "np.float64(1.6783273065282203)"
      ]
     },
     "execution_count": 21,
     "metadata": {},
     "output_type": "execute_result"
    }
   ],
   "source": [
    "uk[uk['Accident_Severity'] == 'Serious']['Number_of_Vehicles'].mean()"
   ]
  },
  {
   "cell_type": "markdown",
   "id": "0d299bba-f3cd-415a-a915-43b4710aef62",
   "metadata": {},
   "source": [
    "<h3>Insight 5:</h3>\n",
    "<h4>Accidents with serious severity typically involve about 1.68 vehicles on average, implying that multi-vehicle collisions are common in severe accidents.</h4>\n",
    "<hr>"
   ]
  },
  {
   "cell_type": "markdown",
   "id": "55602669-2d28-4c66-87db-cf08bfd44f85",
   "metadata": {},
   "source": [
    "<h3>6. What is the average number of casualties in accidents with 'Fatal' severity?</h3>"
   ]
  },
  {
   "cell_type": "code",
   "execution_count": 22,
   "id": "de20ae86-0115-42c9-b394-c1dd0339712a",
   "metadata": {},
   "outputs": [
    {
     "data": {
      "text/plain": [
       "np.float64(1.9031289689412307)"
      ]
     },
     "execution_count": 22,
     "metadata": {},
     "output_type": "execute_result"
    }
   ],
   "source": [
    "uk[uk['Accident_Severity'] == 'Fatal']['Number_of_Casualties'].mean()"
   ]
  },
  {
   "cell_type": "markdown",
   "id": "9ed6b562-c80a-4484-aea0-296a174bffcb",
   "metadata": {},
   "source": [
    "<h3>Insight 6:</h3>\n",
    "<h4>Fatal accidents have an average of about 1.9 casualties, reflecting the severe human cost of these incidents.</h4>\n",
    "<hr>"
   ]
  },
  {
   "cell_type": "markdown",
   "id": "0b5f2ff1-f3fc-4357-b3c5-815aac92b6c1",
   "metadata": {},
   "source": [
    "<h3>7. Calculate the correlation coefficient between 'Number_of_Casualties' and 'Longitude'.</h3>"
   ]
  },
  {
   "cell_type": "code",
   "execution_count": 23,
   "id": "451b78ae-5e60-46c0-ba47-f32512005743",
   "metadata": {},
   "outputs": [
    {
     "data": {
      "text/plain": [
       "np.float64(-0.040405645788454465)"
      ]
     },
     "execution_count": 23,
     "metadata": {},
     "output_type": "execute_result"
    }
   ],
   "source": [
    "uk['Number_of_Casualties'].corr(uk['Longitude'])"
   ]
  },
  {
   "cell_type": "markdown",
   "id": "84293650-efc0-46b7-b224-5a3fb76e4581",
   "metadata": {},
   "source": [
    "<h3>Insight 7:</h3>\n",
    "<h4>The very weak negative correlation (-0.04) between casualties and longitude suggests no meaningful geographic trend in casualties along the east-west axis.</h4>\n",
    "<hr"
   ]
  },
  {
   "cell_type": "markdown",
   "id": "21050040-20d4-4e91-84af-0796df2babed",
   "metadata": {},
   "source": [
    "<h3>8. Which are the top 5 'District Area' with the most accidents?</h3>"
   ]
  },
  {
   "cell_type": "code",
   "execution_count": 24,
   "id": "caad4db0-3149-4d07-964f-63589cab4f27",
   "metadata": {},
   "outputs": [
    {
     "data": {
      "text/plain": [
       "District Area\n",
       "Birmingham    13491\n",
       "Leeds          8898\n",
       "Manchester     6720\n",
       "Bradford       6212\n",
       "Sheffield      5710\n",
       "Name: count, dtype: int64"
      ]
     },
     "execution_count": 24,
     "metadata": {},
     "output_type": "execute_result"
    }
   ],
   "source": [
    "uk['District Area'].value_counts().head(5)"
   ]
  },
  {
   "cell_type": "markdown",
   "id": "b1e15a06-ca3d-49fc-931b-bf5d8d7c1073",
   "metadata": {},
   "source": [
    "<h3>Insight 8:</h3>\n",
    "<h4>Birmingham, Leeds, and Manchester are the top districts for accidents, indicating these urban centers have higher traffic incident rates.</h4>\n",
    "<hr>"
   ]
  },
  {
   "cell_type": "markdown",
   "id": "0a1c93d1-a04a-473c-bdda-b0382eddd467",
   "metadata": {},
   "source": [
    "<h3>9. What is the percentage distribution of accidents across different 'Road_Surface_Conditions'?</h3>"
   ]
  },
  {
   "cell_type": "code",
   "execution_count": 25,
   "id": "0125eb7c-0354-4be8-bc8d-a2b8e8614bc0",
   "metadata": {},
   "outputs": [
    {
     "data": {
      "text/plain": [
       "Road_Surface_Conditions\n",
       "Dry                     67.891820\n",
       "Wet or damp             28.260017\n",
       "Frost or ice             2.802723\n",
       "Snow                     0.891507\n",
       "Flood over 3cm. deep     0.153933\n",
       "Name: proportion, dtype: float64"
      ]
     },
     "execution_count": 25,
     "metadata": {},
     "output_type": "execute_result"
    }
   ],
   "source": [
    "(uk['Road_Surface_Conditions'].value_counts(normalize=True) * 100)"
   ]
  },
  {
   "cell_type": "markdown",
   "id": "dcdbd8b5-ef0f-4e18-84c7-e100e5c98080",
   "metadata": {},
   "source": [
    "<h3>Insight 9:</h3>\n",
    "<h4>Most accidents (nearly 68%) occur on dry roads, showing that dry conditions are not necessarily safer for drivers.</h4>\n",
    "<hr>"
   ]
  },
  {
   "cell_type": "markdown",
   "id": "cfb1f69b-5166-4b12-89ed-351de0d6adce",
   "metadata": {},
   "source": [
    "<h3>Insight 10:</h3>\n",
    "<h4>Adverse conditions like ice, snow, and flooding cause fewer accidents but likely increase risk when present.</h4>\n",
    "<hr>"
   ]
  },
  {
   "cell_type": "markdown",
   "id": "81cb2b75-07b6-4782-ac4f-9717ca3e3445",
   "metadata": {},
   "source": [
    "<h3>10. What is the percentage distribution of accidents across different 'Road_Type' categories?</h3>"
   ]
  },
  {
   "cell_type": "code",
   "execution_count": 26,
   "id": "e8957bd7-d1f1-4029-8de7-a412989748ac",
   "metadata": {},
   "outputs": [
    {
     "data": {
      "text/plain": [
       "Road_Type\n",
       "Single carriageway    75.174631\n",
       "Dual carriageway      15.048760\n",
       "Roundabout             6.658604\n",
       "One way street         2.052283\n",
       "Slip road              1.065722\n",
       "Name: proportion, dtype: float64"
      ]
     },
     "execution_count": 26,
     "metadata": {},
     "output_type": "execute_result"
    }
   ],
   "source": [
    "(uk['Road_Type'].value_counts(normalize=True) * 100)"
   ]
  },
  {
   "cell_type": "markdown",
   "id": "38d389c6-2367-46ce-ae41-50b5863346e9",
   "metadata": {},
   "source": [
    "<h3>Insight 11:</h3>\n",
    "<h4>Single carriageway roads account for over 75% of accidents, highlighting their higher risk compared to other road types.</h4>\n",
    "<hr>"
   ]
  },
  {
   "cell_type": "markdown",
   "id": "5598f3d4-defd-473f-9d2d-833b67707f5c",
   "metadata": {},
   "source": [
    "<h3>Insight 12:</h3>\n",
    "<h4>Dual carriageways and roundabouts also see notable accidents, indicating room for safety improvements.</h4>\n",
    "<hr>"
   ]
  },
  {
   "cell_type": "markdown",
   "id": "0368861e-9b89-4dee-a8be-d3c6354a9f13",
   "metadata": {},
   "source": [
    "<h3>11. What are the top 3 'Weather_Conditions' for accidents?</h3>"
   ]
  },
  {
   "cell_type": "code",
   "execution_count": 27,
   "id": "18d9bb43-9d77-4cf6-9c46-a5ae2a284ea4",
   "metadata": {},
   "outputs": [
    {
     "data": {
      "text/plain": [
       "Weather_Conditions\n",
       "Fine no high winds       535013\n",
       "Raining no high winds     79696\n",
       "Other                     17150\n",
       "Name: count, dtype: int64"
      ]
     },
     "execution_count": 27,
     "metadata": {},
     "output_type": "execute_result"
    }
   ],
   "source": [
    "uk['Weather_Conditions'].value_counts().head(3)"
   ]
  },
  {
   "cell_type": "markdown",
   "id": "a352668f-59c2-492e-a31b-b70a133da7b5",
   "metadata": {},
   "source": [
    "<h3>Insight 13:</h3>\n",
    "<h4>The majority of accidents happen in fine weather without high winds, suggesting that good weather does not eliminate accident risk.</h4>\n",
    "<hr>"
   ]
  },
  {
   "cell_type": "markdown",
   "id": "5404e236-b56d-4346-9082-9d8b101b5ae8",
   "metadata": {},
   "source": [
    "<h3>12. What is the percentage distribution of accidents in 'Urban' versus 'Rural' areas?</h3>"
   ]
  },
  {
   "cell_type": "code",
   "execution_count": 28,
   "id": "d7177ec0-8f8d-4d06-9ba9-35607f432203",
   "metadata": {},
   "outputs": [
    {
     "data": {
      "text/plain": [
       "Urban_or_Rural_Area\n",
       "Urban          63.824944\n",
       "Rural          36.173391\n",
       "Unallocated     0.001665\n",
       "Name: proportion, dtype: float64"
      ]
     },
     "execution_count": 28,
     "metadata": {},
     "output_type": "execute_result"
    }
   ],
   "source": [
    "(uk['Urban_or_Rural_Area'].value_counts(normalize=True) * 100)"
   ]
  },
  {
   "cell_type": "markdown",
   "id": "c42cc49c-c406-436c-9538-9e1b6f1ad178",
   "metadata": {},
   "source": [
    "<h3>Insight 14:</h3>\n",
    "<h4>About 64% of accidents occur in urban areas, emphasizing the higher traffic density and risk in cities.</h4>\n",
    "<hr>\n",
    "<h3>Insight 15:</h3>\n",
    "<h4>Rural areas account for 36.2% of accidents, which may involve higher speeds and different risk factors despite lower traffic volumes.</h4>\n",
    "<hr>"
   ]
  },
  {
   "cell_type": "code",
   "execution_count": 43,
   "id": "d3ae4aa6-c36c-48e0-9fc5-a105fb3eafe1",
   "metadata": {},
   "outputs": [
    {
     "data": {
      "image/png": "[encoded data removed]",
      "text/plain": [
       "<Figure size 800x500 with 1 Axes>"
      ]
     },
     "metadata": {},
     "output_type": "display_data"
    }
   ],
   "source": [
    "# LINEGRAPH VISUALIZATION FOR NO12\n",
    "labels = ['Urban', 'Rural', 'Unallocated']\n",
    "sizes = [63.824944, 36.173391, 0.001665]\n",
    "\n",
    "plt.figure(figsize=(8,5))\n",
    "plt.plot(labels, sizes, marker='o', linestyle='-', color='b')\n",
    "plt.title('Proportion of Urban, Rural, and Unallocated Areas')\n",
    "plt.ylabel('Percentage (%)')\n",
    "plt.ylim(0, 70) \n",
    "plt.grid(True)\n",
    "plt.show()"
   ]
  },
  {
   "cell_type": "markdown",
   "id": "2bd86e5a-508a-43f0-8ef8-088fa73ddc9b",
   "metadata": {},
   "source": [
    "<h3>Insight for Line Graph</h3>\n",
    "<h4>The line graph shows that the vast majority of the area, approximately 63.8%, is classified as urban, while rural areas make up about 36.2%, indicating a predominantly urban environment. The unallocated areas are negligible at 0.0017%, suggesting almost all regions are clearly categorized as either urban or rural.</h4>\n",
    "<hr>"
   ]
  },
  {
   "cell_type": "markdown",
   "id": "df70a023-093b-49bd-9eda-17a7c9cc3058",
   "metadata": {},
   "source": [
    "<h3>13. How many accidents had a 'Serious' severity?</h3>"
   ]
  },
  {
   "cell_type": "code",
   "execution_count": 29,
   "id": "253f1175-ee89-47b3-8111-807775ea3c69",
   "metadata": {},
   "outputs": [
    {
     "data": {
      "text/plain": [
       "88217"
      ]
     },
     "execution_count": 29,
     "metadata": {},
     "output_type": "execute_result"
    }
   ],
   "source": [
    "len(uk[uk['Accident_Severity'] == 'Serious'])"
   ]
  },
  {
   "cell_type": "markdown",
   "id": "83d5dc33-0012-4876-ad78-960fbed71018",
   "metadata": {},
   "source": [
    "<h3>Insight 16:</h3>\n",
    "<h4>There were 88,217 serious severity accidents, indicating a substantial number of high-impact incidents.</h4>\n",
    "<hr>"
   ]
  },
  {
   "cell_type": "markdown",
   "id": "a4ef3ec5-d50b-4ead-9e43-8f712b07bd98",
   "metadata": {},
   "source": [
    "<h3>14. How many accidents involved a 'Motorcycle over 500cc'?</h3>"
   ]
  },
  {
   "cell_type": "code",
   "execution_count": 30,
   "id": "1213fe1e-b2ea-4a8b-9c89-d3773c5b6510",
   "metadata": {},
   "outputs": [
    {
     "data": {
      "text/plain": [
       "25657"
      ]
     },
     "execution_count": 30,
     "metadata": {},
     "output_type": "execute_result"
    }
   ],
   "source": [
    "uk[uk['Vehicle_Type'] == 'Motorcycle over 500cc'].shape[0]"
   ]
  },
  {
   "cell_type": "markdown",
   "id": "d37030a3-a9c9-4f0c-a77e-408997da0e03",
   "metadata": {},
   "source": [
    "<h3>Insight 17:</h3>\n",
    "<h4>Motorcycles over 500cc were involved in 25,657 accidents, showing their notable presence in traffic incidents.</h4>\n",
    "<hr>"
   ]
  },
  {
   "cell_type": "markdown",
   "id": "6f84bbaa-eb58-4a8a-8782-da034e33f50c",
   "metadata": {},
   "source": [
    "<h3>15. How does 'Number_of_Casualties' correlate with 'Latitude'?</h3>"
   ]
  },
  {
   "cell_type": "code",
   "execution_count": 31,
   "id": "8ab69223-dd21-496b-bdba-a5fae3a58597",
   "metadata": {},
   "outputs": [
    {
     "data": {
      "text/plain": [
       "np.float64(0.03220068662590628)"
      ]
     },
     "execution_count": 31,
     "metadata": {},
     "output_type": "execute_result"
    }
   ],
   "source": [
    "correlation_casualties_latitude = uk['Number_of_Casualties'].corr(uk['Latitude'])\n",
    "correlation_casualties_latitude "
   ]
  },
  {
   "cell_type": "markdown",
   "id": "1b0d3b4c-4c1a-4d3b-a4de-3a1ac3386107",
   "metadata": {},
   "source": [
    "<h3>Insight 18:</h3>\n",
    "<h4>The very weak positive correlation (0.03) between casualties and latitude indicates no significant north-south trend in casualties.</h4>\n",
    "<hr>"
   ]
  },
  {
   "cell_type": "markdown",
   "id": "695b736c-fc7a-4465-8ba6-245bd1e579e1",
   "metadata": {},
   "source": [
    "<h3>16. How many accidents occurred under each 'Light_Conditions'?</h3>"
   ]
  },
  {
   "cell_type": "code",
   "execution_count": 32,
   "id": "cac6335b-9f7a-45d7-85a2-e0eb2c5bf887",
   "metadata": {},
   "outputs": [
    {
     "data": {
      "text/plain": [
       "Light_Conditions\n",
       "Daylight                       484880\n",
       "Darkness - lights lit          129335\n",
       "Darkness - no lighting          37437\n",
       "Darkness - lighting unknown      6484\n",
       "Darkness - lights unlit          2543\n",
       "Name: count, dtype: int64"
      ]
     },
     "execution_count": 32,
     "metadata": {},
     "output_type": "execute_result"
    }
   ],
   "source": [
    "light_conditions_counts = uk['Light_Conditions'].value_counts()\n",
    "light_conditions_counts"
   ]
  },
  {
   "cell_type": "markdown",
   "id": "8f561838-25fa-4e2b-a44f-8c909e333eec",
   "metadata": {},
   "source": [
    "<h3>Insight 19:</h3>\n",
    "<h4>Most accidents occur during daylight (484,880), but a significant number also happen in darkness with lights lit, highlighting risks in various lighting conditions.</h4>\n",
    "<hr>\n",
    "<h3>Insight 20:</h3>\n",
    "<h4>A significant number of accidents (around 129,335) occur in darkness with lights lit, indicating that visibility remains a critical factor even when lighting is present.</h4>\n",
    "<hr>"
   ]
  },
  {
   "cell_type": "code",
   "execution_count": 45,
   "id": "ca641242-0651-4e5e-a23e-751a9ca152f5",
   "metadata": {},
   "outputs": [
    {
     "data": {
      "image/png": "[encoded data removed]",
      "text/plain": [
       "<Figure size 800x800 with 1 Axes>"
      ]
     },
     "metadata": {},
     "output_type": "display_data"
    }
   ],
   "source": [
    "# PIECHART VISUALIZATION FOR NO16\n",
    "labels = [\n",
    "    'Daylight',\n",
    "    'Darkness - lights lit',\n",
    "    'Darkness - no lighting',\n",
    "    'Darkness - lighting unknown',\n",
    "    'Darkness - lights unlit'\n",
    "]\n",
    "sizes = [484880, 129335, 37437, 6484, 2543]\n",
    "\n",
    "# Create pie chart\n",
    "plt.figure(figsize=(8, 8))\n",
    "plt.pie(sizes, labels=labels, autopct='%1.1f%%', startangle=140)\n",
    "plt.title('Light Conditions Distribution')\n",
    "plt.axis('equal') \n",
    "plt.show()"
   ]
  },
  {
   "cell_type": "markdown",
   "id": "cab41515-c491-44f7-93d7-ec67ff27611a",
   "metadata": {},
   "source": [
    "<h3>Insight for Pie Chart¶</h3>\n",
    "<h4>The pie chart reveals that the majority of observations, about 70.9%, occur during daylight, indicating most activities or events happen in well-lit conditions. Darkness with lights lit accounts for roughly 18.9%, while the remaining categories with no lighting, unknown lighting, or unlit lights collectively make up a small portion, highlighting limited activity or visibility in poorly lit conditions.</h4>\n",
    "<hr>"
   ]
  },
  {
   "cell_type": "markdown",
   "id": "5be829c8-6e6f-47a2-988f-71de9c36de99",
   "metadata": {},
   "source": [
    "<h3>17. Which 'District Area' has the most accidents?</h3>"
   ]
  },
  {
   "cell_type": "code",
   "execution_count": 33,
   "id": "721f4819-0b83-4867-b6ee-f8b33bd8eb46",
   "metadata": {},
   "outputs": [
    {
     "data": {
      "text/plain": [
       "District Area\n",
       "Birmingham    13491\n",
       "Name: count, dtype: int64"
      ]
     },
     "execution_count": 33,
     "metadata": {},
     "output_type": "execute_result"
    }
   ],
   "source": [
    "district_accidents = uk['District Area'].value_counts().head(1)\n",
    "district_accidents"
   ]
  },
  {
   "cell_type": "markdown",
   "id": "335213cb-2781-44c1-8355-0070b8a258a4",
   "metadata": {},
   "source": [
    "<h3>Insight 21:</h3>\n",
    "<h4>Birmingham has the highest number of accidents among districts, pointing to it as a key area for road safety focus.</h4>\n",
    "<hr>"
   ]
  },
  {
   "cell_type": "markdown",
   "id": "4a1c95e5-1035-42dd-a510-2e8e4a376603",
   "metadata": {},
   "source": [
    "<h3>18. How does 'Accident_Severity' vary across different 'Road_Type's?</h3>"
   ]
  },
  {
   "cell_type": "code",
   "execution_count": 34,
   "id": "e4e7b55c-1742-494e-9d7b-3d7f40f99b55",
   "metadata": {},
   "outputs": [
    {
     "data": {
      "text/html": [
       "<div>\n",
       "<style scoped>\n",
       "    .dataframe tbody tr th:only-of-type {\n",
       "        vertical-align: middle;\n",
       "    }\n",
       "\n",
       "    .dataframe tbody tr th {\n",
       "        vertical-align: top;\n",
       "    }\n",
       "\n",
       "    .dataframe thead th {\n",
       "        text-align: right;\n",
       "    }\n",
       "</style>\n",
       "<table border=\"1\" class=\"dataframe\">\n",
       "  <thead>\n",
       "    <tr style=\"text-align: right;\">\n",
       "      <th>Accident_Severity</th>\n",
       "      <th>Fatal</th>\n",
       "      <th>Serious</th>\n",
       "      <th>Slight</th>\n",
       "    </tr>\n",
       "    <tr>\n",
       "      <th>Road_Type</th>\n",
       "      <th></th>\n",
       "      <th></th>\n",
       "      <th></th>\n",
       "    </tr>\n",
       "  </thead>\n",
       "  <tbody>\n",
       "    <tr>\n",
       "      <th>Dual carriageway</th>\n",
       "      <td>0.018255</td>\n",
       "      <td>0.118140</td>\n",
       "      <td>0.863604</td>\n",
       "    </tr>\n",
       "    <tr>\n",
       "      <th>One way street</th>\n",
       "      <td>0.007006</td>\n",
       "      <td>0.122059</td>\n",
       "      <td>0.870934</td>\n",
       "    </tr>\n",
       "    <tr>\n",
       "      <th>Roundabout</th>\n",
       "      <td>0.003228</td>\n",
       "      <td>0.083311</td>\n",
       "      <td>0.913462</td>\n",
       "    </tr>\n",
       "    <tr>\n",
       "      <th>Single carriageway</th>\n",
       "      <td>0.013208</td>\n",
       "      <td>0.142028</td>\n",
       "      <td>0.844764</td>\n",
       "    </tr>\n",
       "    <tr>\n",
       "      <th>Slip road</th>\n",
       "      <td>0.006959</td>\n",
       "      <td>0.086777</td>\n",
       "      <td>0.906263</td>\n",
       "    </tr>\n",
       "  </tbody>\n",
       "</table>\n",
       "</div>"
      ],
      "text/plain": [
       "Accident_Severity      Fatal   Serious    Slight\n",
       "Road_Type                                       \n",
       "Dual carriageway    0.018255  0.118140  0.863604\n",
       "One way street      0.007006  0.122059  0.870934\n",
       "Roundabout          0.003228  0.083311  0.913462\n",
       "Single carriageway  0.013208  0.142028  0.844764\n",
       "Slip road           0.006959  0.086777  0.906263"
      ]
     },
     "execution_count": 34,
     "metadata": {},
     "output_type": "execute_result"
    }
   ],
   "source": [
    "severity_by_road_type = uk.groupby('Road_Type')['Accident_Severity'].value_counts(normalize=True).unstack()\n",
    "severity_by_road_type"
   ]
  },
  {
   "cell_type": "markdown",
   "id": "59c1805f-db8f-4948-9f89-6928508e83b4",
   "metadata": {},
   "source": [
    "<h3>Insight 22:</h3>\n",
    "<h4>Single carriageways have the highest proportion of serious accidents (14.2%), suggesting these roads are more prone to severe crashes.</h4>\n",
    "<hr>"
   ]
  },
  {
   "cell_type": "markdown",
   "id": "4b33b130-d4fa-4cca-849b-92d5c49a7af1",
   "metadata": {},
   "source": [
    "<h3>19.  What is the most common 'Weather_Conditions' during accidents?</h3>"
   ]
  },
  {
   "cell_type": "code",
   "execution_count": 35,
   "id": "c10f02e7-cbeb-4e83-a2d6-2f64f67236dd",
   "metadata": {},
   "outputs": [
    {
     "data": {
      "text/plain": [
       "Weather_Conditions\n",
       "Fine no high winds    535013\n",
       "Name: count, dtype: int64"
      ]
     },
     "execution_count": 35,
     "metadata": {},
     "output_type": "execute_result"
    }
   ],
   "source": [
    "most_common_weather = uk['Weather_Conditions'].value_counts().head(1)\n",
    "most_common_weather"
   ]
  },
  {
   "cell_type": "markdown",
   "id": "5365b85a-5bae-4217-ac72-113ea1707038",
   "metadata": {},
   "source": [
    "<h3>Insight 23:</h3>\n",
    "<h4>Fine weather with no high winds is the most common condition during accidents, indicating that accidents are not limited to adverse weather.</h4>\n",
    "<hr>"
   ]
  },
  {
   "cell_type": "markdown",
   "id": "2ebc5aa5-ad7e-407d-a555-9637359a6e57",
   "metadata": {},
   "source": [
    "<h3>20. How many accidents occurred when 'Weather_Conditions' were 'Raining no high winds'?</h3>"
   ]
  },
  {
   "cell_type": "code",
   "execution_count": 36,
   "id": "4bd4d3ff-767a-4ee6-9764-017a50e5dd22",
   "metadata": {},
   "outputs": [
    {
     "data": {
      "text/plain": [
       "79696"
      ]
     },
     "execution_count": 36,
     "metadata": {},
     "output_type": "execute_result"
    }
   ],
   "source": [
    "raining_accidents = uk[uk['Weather_Conditions'] == 'Raining no high winds'].shape[0]\n",
    "raining_accidents"
   ]
  },
  {
   "cell_type": "markdown",
   "id": "99638c77-e995-4155-a4e4-a16b7bc36499",
   "metadata": {},
   "source": [
    "<h3>Insight 24:</h3>\n",
    "<h4>Nearly 79,700 accidents occurred during rain without high winds, showing that wet conditions still pose a significant hazard.</h4>\n",
    "<hr>"
   ]
  },
  {
   "cell_type": "markdown",
   "id": "501330a1-f595-4f30-acbd-5f729b118f87",
   "metadata": {},
   "source": [
    "<h3>21. Which day of the week has the most accidents?</h3>"
   ]
  },
  {
   "cell_type": "code",
   "execution_count": 37,
   "id": "ded3213e-0016-4ac0-b422-044671bb0773",
   "metadata": {},
   "outputs": [
    {
     "data": {
      "text/plain": [
       "Accident Date\n",
       "Saturday     107178\n",
       "Wednesday     99558\n",
       "Thursday      99511\n",
       "Friday        97900\n",
       "Tuesday       94550\n",
       "Sunday        89302\n",
       "Monday        72680\n",
       "Name: count, dtype: int64"
      ]
     },
     "execution_count": 37,
     "metadata": {},
     "output_type": "execute_result"
    }
   ],
   "source": [
    "pd.to_datetime(uk['Accident Date'], errors='coerce').dt.day_name().value_counts()"
   ]
  },
  {
   "cell_type": "markdown",
   "id": "6f2e8715-6b6c-4e2b-a90d-7745980b4452",
   "metadata": {},
   "source": [
    "<h3>Insight 25:</h3>\n",
    "<h4>Saturday has the highest number of accidents (107,178), possibly due to increased leisure travel and social activities.</h4>\n",
    "<hr>\n",
    "<h3>Insight 26:</h3>\n",
    "<h4>Monday has the fewest accidents (72,680), which may reflect lower traffic volumes or more cautious driving at the start of the workweek.</h4>\n",
    "<hr>"
   ]
  },
  {
   "cell_type": "code",
   "execution_count": 47,
   "id": "83d4d8d1-6dd2-48fb-a79b-a4f6afea9d68",
   "metadata": {},
   "outputs": [
    {
     "data": {
      "image/png": "[encoded data removed]",
      "text/plain": [
       "<Figure size 1000x600 with 1 Axes>"
      ]
     },
     "metadata": {},
     "output_type": "display_data"
    }
   ],
   "source": [
    "#BARGRAPH VISUALIZATION FOR NO21\n",
    "day_counts = pd.to_datetime(uk['Accident Date'], errors='coerce').dt.day_name().value_counts()\n",
    "\n",
    "days_order = ['Monday', 'Tuesday', 'Wednesday', 'Thursday', 'Friday', 'Saturday', 'Sunday']\n",
    "\n",
    "day_counts = day_counts.reindex(days_order)\n",
    "\n",
    "plt.figure(figsize=(10,6))\n",
    "day_counts.plot(kind='bar', color='skyblue')\n",
    "plt.title('Number of Accidents by Day of the Week')\n",
    "plt.xlabel('Day of the Week')\n",
    "plt.ylabel('Number of Accidents')\n",
    "plt.xticks(rotation=45)\n",
    "plt.tight_layout()\n",
    "plt.show()"
   ]
  },
  {
   "cell_type": "markdown",
   "id": "99686556-3820-4cdb-8aa6-b1741828b51c",
   "metadata": {},
   "source": [
    "<h3>Insight for Bar Chart</h3>\n",
    "<h4>The bar chart reveals that accidents occur most frequently on Fridays, with a noticeable decline over the weekend, reaching the lowest on Sundays. This pattern suggests higher accident rates during the workweek, possibly due to increased traffic and commuting activities.</h4>\n",
    "<hr>"
   ]
  },
  {
   "cell_type": "markdown",
   "id": "b837fa89-9ded-48c3-a3d1-7b54737666f0",
   "metadata": {},
   "source": [
    "<h3>22. Which year recorded the highest average casualties per accident?</h3>"
   ]
  },
  {
   "cell_type": "code",
   "execution_count": 38,
   "id": "7f1a6471-bc23-4663-83cd-be4238ba267f",
   "metadata": {},
   "outputs": [
    {
     "data": {
      "text/plain": [
       "Accident Date\n",
       "2019    1.360569\n",
       "Name: Number_of_Casualties, dtype: float64"
      ]
     },
     "execution_count": 38,
     "metadata": {},
     "output_type": "execute_result"
    }
   ],
   "source": [
    "uk.groupby(uk['Accident Date'].dt.year)['Number_of_Casualties'].mean().sort_values(ascending=False).head(1)"
   ]
  },
  {
   "cell_type": "markdown",
   "id": "efb34cba-1af9-4ee1-ad53-f8100ba65a1c",
   "metadata": {},
   "source": [
    "<h3>Insight 27:</h3>\n",
    "<h4>In 2019, accidents had the highest average casualties (1.36), indicating more severe incidents that year.</h4>\n",
    "<hr>"
   ]
  },
  {
   "cell_type": "markdown",
   "id": "01ba6d90-10e0-44c1-b4aa-7a3ccc853460",
   "metadata": {},
   "source": [
    "<h3>23. How do serious accidents vary by quarter?</h3>"
   ]
  },
  {
   "cell_type": "code",
   "execution_count": 39,
   "id": "5eb3b79f-bed1-4908-9d67-2fc7dbecd330",
   "metadata": {},
   "outputs": [
    {
     "data": {
      "text/plain": [
       "Accident Date\n",
       "1    20045\n",
       "2    22973\n",
       "3    23382\n",
       "4    21817\n",
       "dtype: int64"
      ]
     },
     "execution_count": 39,
     "metadata": {},
     "output_type": "execute_result"
    }
   ],
   "source": [
    "uk[uk['Accident_Severity']=='Serious'].groupby(uk['Accident Date'].dt.quarter).size()"
   ]
  },
  {
   "cell_type": "markdown",
   "id": "423ac2a2-e0a2-472d-b672-a11ebda9cb22",
   "metadata": {},
   "source": [
    "<h3>Insight 28:</h3>\n",
    "<h4>The third quarter (July to September) has the highest number of serious accidents (23,382), which could be linked to increased travel during summer months.</h4>\n",
    "<hr>\n",
    "<h3>Insight 29:</h3>\n",
    "<h4>The first quarter (January to March) has the lowest number of serious accidents (20,045), possibly due to less travel or more cautious driving in winter conditions.</h4>\n",
    "<hr>"
   ]
  },
  {
   "cell_type": "code",
   "execution_count": 48,
   "id": "700c8ba6-b890-42a6-ab27-1843327442b6",
   "metadata": {},
   "outputs": [
    {
     "data": {
      "image/png": "[encoded data removed]",
      "text/plain": [
       "<Figure size 800x500 with 1 Axes>"
      ]
     },
     "metadata": {},
     "output_type": "display_data"
    }
   ],
   "source": [
    "quarters = [1, 2, 3, 4]\n",
    "serious_accidents = [20045, 22973, 23382, 21817]\n",
    "\n",
    "plt.figure(figsize=(8, 5))\n",
    "plt.plot(quarters, serious_accidents, marker='o', linestyle='-', color='b')\n",
    "plt.title('Number of Serious Accidents by Quarter')\n",
    "plt.xlabel('Quarter')\n",
    "plt.ylabel('Number of Serious Accidents')\n",
    "plt.xticks(quarters)\n",
    "plt.grid(True)\n",
    "plt.show()"
   ]
  },
  {
   "cell_type": "code",
   "execution_count": null,
   "id": "3c5938ed-e2f1-4026-ae41-67e8f8b37882",
   "metadata": {},
   "outputs": [],
   "source": []
  }
 ],
 "metadata": {
  "kernelspec": {
   "display_name": "Python 3 (ipykernel)",
   "language": "python",
   "name": "python3"
  },
  "language_info": {
   "codemirror_mode": {
    "name": "ipython",
    "version": 3
   },
   "file_extension": ".py",
   "mimetype": "text/x-python",
   "name": "python",
   "nbconvert_exporter": "python",
   "pygments_lexer": "ipython3",
   "version": "3.11.9"
  }
 },
 "nbformat": 4,
 "nbformat_minor": 5
}
